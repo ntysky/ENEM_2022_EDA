{
  "nbformat": 4,
  "nbformat_minor": 0,
  "metadata": {
    "colab": {
      "provenance": []
    },
    "kernelspec": {
      "name": "python3",
      "display_name": "Python 3"
    },
    "language_info": {
      "name": "python"
    }
  },
  "cells": [
    {
      "cell_type": "code",
      "execution_count": null,
      "metadata": {
        "id": "jq4_sbTeKYR5"
      },
      "outputs": [],
      "source": [
        "import pandas as pd\n",
        "import numpy as np\n",
        "import matplotlib.pyplot as plt\n",
        "import seaborn as srn"
      ]
    },
    {
      "cell_type": "code",
      "source": [
        "df = pd.read_csv('/content/drive/MyDrive/enem_dados/MICRODADOS_ENEM_2022.csv', sep = ';', encoding = 'latin-1')"
      ],
      "metadata": {
        "id": "JYp8D1Ckayy-"
      },
      "execution_count": null,
      "outputs": []
    },
    {
      "cell_type": "code",
      "source": [
        "df"
      ],
      "metadata": {
        "colab": {
          "base_uri": "https://localhost:8080/",
          "height": 444
        },
        "id": "28XUg6zfhKz-",
        "outputId": "9ef57c01-62aa-4c41-8c56-535b95437321"
      },
      "execution_count": null,
      "outputs": [
        {
          "output_type": "execute_result",
          "data": {
            "text/plain": [
              "         NU_INSCRICAO  NU_ANO  TP_FAIXA_ETARIA TP_SEXO  TP_ESTADO_CIVIL  \\\n",
              "0        210057943671    2022               14       M                2   \n",
              "1        210057516120    2022               14       M                2   \n",
              "2        210057280536    2022                5       F                1   \n",
              "3        210055724397    2022                6       M                1   \n",
              "4        210055097896    2022                4       M                0   \n",
              "...               ...     ...              ...     ...              ...   \n",
              "3476100  210056389903    2022                3       M                1   \n",
              "3476101  210057205644    2022               14       F                2   \n",
              "3476102  210056699189    2022                2       M                1   \n",
              "3476103  210056983033    2022                3       M                1   \n",
              "3476104  210056307777    2022                2       F                2   \n",
              "\n",
              "         TP_COR_RACA  TP_NACIONALIDADE  TP_ST_CONCLUSAO  TP_ANO_CONCLUIU  \\\n",
              "0                  2                 1                1                2   \n",
              "1                  1                 1                1               16   \n",
              "2                  2                 1                1                2   \n",
              "3                  3                 1                1                2   \n",
              "4                  3                 1                1                1   \n",
              "...              ...               ...              ...              ...   \n",
              "3476100            1                 1                2                0   \n",
              "3476101            1                 1                2                0   \n",
              "3476102            1                 1                2                0   \n",
              "3476103            3                 1                2                0   \n",
              "3476104            3                 1                2                0   \n",
              "\n",
              "         TP_ESCOLA  ...  Q016  Q017  Q018 Q019  Q020 Q021  Q022  Q023  Q024  \\\n",
              "0                1  ...     B     A     A    A     A    A     A     A     A   \n",
              "1                1  ...     E     E     B    E     B    B     E     B     E   \n",
              "2                1  ...     A     A     A    A     A    A     C     A     A   \n",
              "3                1  ...     B     A     A    C     A    A     C     B     B   \n",
              "4                1  ...     A     A     A    A     A    A     B     A     A   \n",
              "...            ...  ...   ...   ...   ...  ...   ...  ...   ...   ...   ...   \n",
              "3476100          2  ...     B     A     B    B     B    A     E     A     A   \n",
              "3476101          2  ...     A     A     A    B     A    A     C     A     B   \n",
              "3476102          2  ...     B     A     B    C     B    A     E     A     B   \n",
              "3476103          3  ...     B     A     B    D     A    A     E     A     B   \n",
              "3476104          2  ...     A     A     A    B     A    A     C     A     C   \n",
              "\n",
              "         Q025  \n",
              "0           A  \n",
              "1           B  \n",
              "2           B  \n",
              "3           B  \n",
              "4           A  \n",
              "...       ...  \n",
              "3476100     B  \n",
              "3476101     B  \n",
              "3476102     B  \n",
              "3476103     B  \n",
              "3476104     B  \n",
              "\n",
              "[3476105 rows x 76 columns]"
            ],
            "text/html": [
              "\n",
              "  <div id=\"df-e9e8c197-177a-4440-b2de-504565e9fda1\" class=\"colab-df-container\">\n",
              "    <div>\n",
              "<style scoped>\n",
              "    .dataframe tbody tr th:only-of-type {\n",
              "        vertical-align: middle;\n",
              "    }\n",
              "\n",
              "    .dataframe tbody tr th {\n",
              "        vertical-align: top;\n",
              "    }\n",
              "\n",
              "    .dataframe thead th {\n",
              "        text-align: right;\n",
              "    }\n",
              "</style>\n",
              "<table border=\"1\" class=\"dataframe\">\n",
              "  <thead>\n",
              "    <tr style=\"text-align: right;\">\n",
              "      <th></th>\n",
              "      <th>NU_INSCRICAO</th>\n",
              "      <th>NU_ANO</th>\n",
              "      <th>TP_FAIXA_ETARIA</th>\n",
              "      <th>TP_SEXO</th>\n",
              "      <th>TP_ESTADO_CIVIL</th>\n",
              "      <th>TP_COR_RACA</th>\n",
              "      <th>TP_NACIONALIDADE</th>\n",
              "      <th>TP_ST_CONCLUSAO</th>\n",
              "      <th>TP_ANO_CONCLUIU</th>\n",
              "      <th>TP_ESCOLA</th>\n",
              "      <th>...</th>\n",
              "      <th>Q016</th>\n",
              "      <th>Q017</th>\n",
              "      <th>Q018</th>\n",
              "      <th>Q019</th>\n",
              "      <th>Q020</th>\n",
              "      <th>Q021</th>\n",
              "      <th>Q022</th>\n",
              "      <th>Q023</th>\n",
              "      <th>Q024</th>\n",
              "      <th>Q025</th>\n",
              "    </tr>\n",
              "  </thead>\n",
              "  <tbody>\n",
              "    <tr>\n",
              "      <th>0</th>\n",
              "      <td>210057943671</td>\n",
              "      <td>2022</td>\n",
              "      <td>14</td>\n",
              "      <td>M</td>\n",
              "      <td>2</td>\n",
              "      <td>2</td>\n",
              "      <td>1</td>\n",
              "      <td>1</td>\n",
              "      <td>2</td>\n",
              "      <td>1</td>\n",
              "      <td>...</td>\n",
              "      <td>B</td>\n",
              "      <td>A</td>\n",
              "      <td>A</td>\n",
              "      <td>A</td>\n",
              "      <td>A</td>\n",
              "      <td>A</td>\n",
              "      <td>A</td>\n",
              "      <td>A</td>\n",
              "      <td>A</td>\n",
              "      <td>A</td>\n",
              "    </tr>\n",
              "    <tr>\n",
              "      <th>1</th>\n",
              "      <td>210057516120</td>\n",
              "      <td>2022</td>\n",
              "      <td>14</td>\n",
              "      <td>M</td>\n",
              "      <td>2</td>\n",
              "      <td>1</td>\n",
              "      <td>1</td>\n",
              "      <td>1</td>\n",
              "      <td>16</td>\n",
              "      <td>1</td>\n",
              "      <td>...</td>\n",
              "      <td>E</td>\n",
              "      <td>E</td>\n",
              "      <td>B</td>\n",
              "      <td>E</td>\n",
              "      <td>B</td>\n",
              "      <td>B</td>\n",
              "      <td>E</td>\n",
              "      <td>B</td>\n",
              "      <td>E</td>\n",
              "      <td>B</td>\n",
              "    </tr>\n",
              "    <tr>\n",
              "      <th>2</th>\n",
              "      <td>210057280536</td>\n",
              "      <td>2022</td>\n",
              "      <td>5</td>\n",
              "      <td>F</td>\n",
              "      <td>1</td>\n",
              "      <td>2</td>\n",
              "      <td>1</td>\n",
              "      <td>1</td>\n",
              "      <td>2</td>\n",
              "      <td>1</td>\n",
              "      <td>...</td>\n",
              "      <td>A</td>\n",
              "      <td>A</td>\n",
              "      <td>A</td>\n",
              "      <td>A</td>\n",
              "      <td>A</td>\n",
              "      <td>A</td>\n",
              "      <td>C</td>\n",
              "      <td>A</td>\n",
              "      <td>A</td>\n",
              "      <td>B</td>\n",
              "    </tr>\n",
              "    <tr>\n",
              "      <th>3</th>\n",
              "      <td>210055724397</td>\n",
              "      <td>2022</td>\n",
              "      <td>6</td>\n",
              "      <td>M</td>\n",
              "      <td>1</td>\n",
              "      <td>3</td>\n",
              "      <td>1</td>\n",
              "      <td>1</td>\n",
              "      <td>2</td>\n",
              "      <td>1</td>\n",
              "      <td>...</td>\n",
              "      <td>B</td>\n",
              "      <td>A</td>\n",
              "      <td>A</td>\n",
              "      <td>C</td>\n",
              "      <td>A</td>\n",
              "      <td>A</td>\n",
              "      <td>C</td>\n",
              "      <td>B</td>\n",
              "      <td>B</td>\n",
              "      <td>B</td>\n",
              "    </tr>\n",
              "    <tr>\n",
              "      <th>4</th>\n",
              "      <td>210055097896</td>\n",
              "      <td>2022</td>\n",
              "      <td>4</td>\n",
              "      <td>M</td>\n",
              "      <td>0</td>\n",
              "      <td>3</td>\n",
              "      <td>1</td>\n",
              "      <td>1</td>\n",
              "      <td>1</td>\n",
              "      <td>1</td>\n",
              "      <td>...</td>\n",
              "      <td>A</td>\n",
              "      <td>A</td>\n",
              "      <td>A</td>\n",
              "      <td>A</td>\n",
              "      <td>A</td>\n",
              "      <td>A</td>\n",
              "      <td>B</td>\n",
              "      <td>A</td>\n",
              "      <td>A</td>\n",
              "      <td>A</td>\n",
              "    </tr>\n",
              "    <tr>\n",
              "      <th>...</th>\n",
              "      <td>...</td>\n",
              "      <td>...</td>\n",
              "      <td>...</td>\n",
              "      <td>...</td>\n",
              "      <td>...</td>\n",
              "      <td>...</td>\n",
              "      <td>...</td>\n",
              "      <td>...</td>\n",
              "      <td>...</td>\n",
              "      <td>...</td>\n",
              "      <td>...</td>\n",
              "      <td>...</td>\n",
              "      <td>...</td>\n",
              "      <td>...</td>\n",
              "      <td>...</td>\n",
              "      <td>...</td>\n",
              "      <td>...</td>\n",
              "      <td>...</td>\n",
              "      <td>...</td>\n",
              "      <td>...</td>\n",
              "      <td>...</td>\n",
              "    </tr>\n",
              "    <tr>\n",
              "      <th>3476100</th>\n",
              "      <td>210056389903</td>\n",
              "      <td>2022</td>\n",
              "      <td>3</td>\n",
              "      <td>M</td>\n",
              "      <td>1</td>\n",
              "      <td>1</td>\n",
              "      <td>1</td>\n",
              "      <td>2</td>\n",
              "      <td>0</td>\n",
              "      <td>2</td>\n",
              "      <td>...</td>\n",
              "      <td>B</td>\n",
              "      <td>A</td>\n",
              "      <td>B</td>\n",
              "      <td>B</td>\n",
              "      <td>B</td>\n",
              "      <td>A</td>\n",
              "      <td>E</td>\n",
              "      <td>A</td>\n",
              "      <td>A</td>\n",
              "      <td>B</td>\n",
              "    </tr>\n",
              "    <tr>\n",
              "      <th>3476101</th>\n",
              "      <td>210057205644</td>\n",
              "      <td>2022</td>\n",
              "      <td>14</td>\n",
              "      <td>F</td>\n",
              "      <td>2</td>\n",
              "      <td>1</td>\n",
              "      <td>1</td>\n",
              "      <td>2</td>\n",
              "      <td>0</td>\n",
              "      <td>2</td>\n",
              "      <td>...</td>\n",
              "      <td>A</td>\n",
              "      <td>A</td>\n",
              "      <td>A</td>\n",
              "      <td>B</td>\n",
              "      <td>A</td>\n",
              "      <td>A</td>\n",
              "      <td>C</td>\n",
              "      <td>A</td>\n",
              "      <td>B</td>\n",
              "      <td>B</td>\n",
              "    </tr>\n",
              "    <tr>\n",
              "      <th>3476102</th>\n",
              "      <td>210056699189</td>\n",
              "      <td>2022</td>\n",
              "      <td>2</td>\n",
              "      <td>M</td>\n",
              "      <td>1</td>\n",
              "      <td>1</td>\n",
              "      <td>1</td>\n",
              "      <td>2</td>\n",
              "      <td>0</td>\n",
              "      <td>2</td>\n",
              "      <td>...</td>\n",
              "      <td>B</td>\n",
              "      <td>A</td>\n",
              "      <td>B</td>\n",
              "      <td>C</td>\n",
              "      <td>B</td>\n",
              "      <td>A</td>\n",
              "      <td>E</td>\n",
              "      <td>A</td>\n",
              "      <td>B</td>\n",
              "      <td>B</td>\n",
              "    </tr>\n",
              "    <tr>\n",
              "      <th>3476103</th>\n",
              "      <td>210056983033</td>\n",
              "      <td>2022</td>\n",
              "      <td>3</td>\n",
              "      <td>M</td>\n",
              "      <td>1</td>\n",
              "      <td>3</td>\n",
              "      <td>1</td>\n",
              "      <td>2</td>\n",
              "      <td>0</td>\n",
              "      <td>3</td>\n",
              "      <td>...</td>\n",
              "      <td>B</td>\n",
              "      <td>A</td>\n",
              "      <td>B</td>\n",
              "      <td>D</td>\n",
              "      <td>A</td>\n",
              "      <td>A</td>\n",
              "      <td>E</td>\n",
              "      <td>A</td>\n",
              "      <td>B</td>\n",
              "      <td>B</td>\n",
              "    </tr>\n",
              "    <tr>\n",
              "      <th>3476104</th>\n",
              "      <td>210056307777</td>\n",
              "      <td>2022</td>\n",
              "      <td>2</td>\n",
              "      <td>F</td>\n",
              "      <td>2</td>\n",
              "      <td>3</td>\n",
              "      <td>1</td>\n",
              "      <td>2</td>\n",
              "      <td>0</td>\n",
              "      <td>2</td>\n",
              "      <td>...</td>\n",
              "      <td>A</td>\n",
              "      <td>A</td>\n",
              "      <td>A</td>\n",
              "      <td>B</td>\n",
              "      <td>A</td>\n",
              "      <td>A</td>\n",
              "      <td>C</td>\n",
              "      <td>A</td>\n",
              "      <td>C</td>\n",
              "      <td>B</td>\n",
              "    </tr>\n",
              "  </tbody>\n",
              "</table>\n",
              "<p>3476105 rows × 76 columns</p>\n",
              "</div>\n",
              "    <div class=\"colab-df-buttons\">\n",
              "\n",
              "  <div class=\"colab-df-container\">\n",
              "    <button class=\"colab-df-convert\" onclick=\"convertToInteractive('df-e9e8c197-177a-4440-b2de-504565e9fda1')\"\n",
              "            title=\"Convert this dataframe to an interactive table.\"\n",
              "            style=\"display:none;\">\n",
              "\n",
              "  <svg xmlns=\"http://www.w3.org/2000/svg\" height=\"24px\" viewBox=\"0 -960 960 960\">\n",
              "    <path d=\"M120-120v-720h720v720H120Zm60-500h600v-160H180v160Zm220 220h160v-160H400v160Zm0 220h160v-160H400v160ZM180-400h160v-160H180v160Zm440 0h160v-160H620v160ZM180-180h160v-160H180v160Zm440 0h160v-160H620v160Z\"/>\n",
              "  </svg>\n",
              "    </button>\n",
              "\n",
              "  <style>\n",
              "    .colab-df-container {\n",
              "      display:flex;\n",
              "      gap: 12px;\n",
              "    }\n",
              "\n",
              "    .colab-df-convert {\n",
              "      background-color: #E8F0FE;\n",
              "      border: none;\n",
              "      border-radius: 50%;\n",
              "      cursor: pointer;\n",
              "      display: none;\n",
              "      fill: #1967D2;\n",
              "      height: 32px;\n",
              "      padding: 0 0 0 0;\n",
              "      width: 32px;\n",
              "    }\n",
              "\n",
              "    .colab-df-convert:hover {\n",
              "      background-color: #E2EBFA;\n",
              "      box-shadow: 0px 1px 2px rgba(60, 64, 67, 0.3), 0px 1px 3px 1px rgba(60, 64, 67, 0.15);\n",
              "      fill: #174EA6;\n",
              "    }\n",
              "\n",
              "    .colab-df-buttons div {\n",
              "      margin-bottom: 4px;\n",
              "    }\n",
              "\n",
              "    [theme=dark] .colab-df-convert {\n",
              "      background-color: #3B4455;\n",
              "      fill: #D2E3FC;\n",
              "    }\n",
              "\n",
              "    [theme=dark] .colab-df-convert:hover {\n",
              "      background-color: #434B5C;\n",
              "      box-shadow: 0px 1px 3px 1px rgba(0, 0, 0, 0.15);\n",
              "      filter: drop-shadow(0px 1px 2px rgba(0, 0, 0, 0.3));\n",
              "      fill: #FFFFFF;\n",
              "    }\n",
              "  </style>\n",
              "\n",
              "    <script>\n",
              "      const buttonEl =\n",
              "        document.querySelector('#df-e9e8c197-177a-4440-b2de-504565e9fda1 button.colab-df-convert');\n",
              "      buttonEl.style.display =\n",
              "        google.colab.kernel.accessAllowed ? 'block' : 'none';\n",
              "\n",
              "      async function convertToInteractive(key) {\n",
              "        const element = document.querySelector('#df-e9e8c197-177a-4440-b2de-504565e9fda1');\n",
              "        const dataTable =\n",
              "          await google.colab.kernel.invokeFunction('convertToInteractive',\n",
              "                                                    [key], {});\n",
              "        if (!dataTable) return;\n",
              "\n",
              "        const docLinkHtml = 'Like what you see? Visit the ' +\n",
              "          '<a target=\"_blank\" href=https://colab.research.google.com/notebooks/data_table.ipynb>data table notebook</a>'\n",
              "          + ' to learn more about interactive tables.';\n",
              "        element.innerHTML = '';\n",
              "        dataTable['output_type'] = 'display_data';\n",
              "        await google.colab.output.renderOutput(dataTable, element);\n",
              "        const docLink = document.createElement('div');\n",
              "        docLink.innerHTML = docLinkHtml;\n",
              "        element.appendChild(docLink);\n",
              "      }\n",
              "    </script>\n",
              "  </div>\n",
              "\n",
              "\n",
              "<div id=\"df-47f4807f-12f0-4710-b551-897c75530e13\">\n",
              "  <button class=\"colab-df-quickchart\" onclick=\"quickchart('df-47f4807f-12f0-4710-b551-897c75530e13')\"\n",
              "            title=\"Suggest charts\"\n",
              "            style=\"display:none;\">\n",
              "\n",
              "<svg xmlns=\"http://www.w3.org/2000/svg\" height=\"24px\"viewBox=\"0 0 24 24\"\n",
              "     width=\"24px\">\n",
              "    <g>\n",
              "        <path d=\"M19 3H5c-1.1 0-2 .9-2 2v14c0 1.1.9 2 2 2h14c1.1 0 2-.9 2-2V5c0-1.1-.9-2-2-2zM9 17H7v-7h2v7zm4 0h-2V7h2v10zm4 0h-2v-4h2v4z\"/>\n",
              "    </g>\n",
              "</svg>\n",
              "  </button>\n",
              "\n",
              "<style>\n",
              "  .colab-df-quickchart {\n",
              "      --bg-color: #E8F0FE;\n",
              "      --fill-color: #1967D2;\n",
              "      --hover-bg-color: #E2EBFA;\n",
              "      --hover-fill-color: #174EA6;\n",
              "      --disabled-fill-color: #AAA;\n",
              "      --disabled-bg-color: #DDD;\n",
              "  }\n",
              "\n",
              "  [theme=dark] .colab-df-quickchart {\n",
              "      --bg-color: #3B4455;\n",
              "      --fill-color: #D2E3FC;\n",
              "      --hover-bg-color: #434B5C;\n",
              "      --hover-fill-color: #FFFFFF;\n",
              "      --disabled-bg-color: #3B4455;\n",
              "      --disabled-fill-color: #666;\n",
              "  }\n",
              "\n",
              "  .colab-df-quickchart {\n",
              "    background-color: var(--bg-color);\n",
              "    border: none;\n",
              "    border-radius: 50%;\n",
              "    cursor: pointer;\n",
              "    display: none;\n",
              "    fill: var(--fill-color);\n",
              "    height: 32px;\n",
              "    padding: 0;\n",
              "    width: 32px;\n",
              "  }\n",
              "\n",
              "  .colab-df-quickchart:hover {\n",
              "    background-color: var(--hover-bg-color);\n",
              "    box-shadow: 0 1px 2px rgba(60, 64, 67, 0.3), 0 1px 3px 1px rgba(60, 64, 67, 0.15);\n",
              "    fill: var(--button-hover-fill-color);\n",
              "  }\n",
              "\n",
              "  .colab-df-quickchart-complete:disabled,\n",
              "  .colab-df-quickchart-complete:disabled:hover {\n",
              "    background-color: var(--disabled-bg-color);\n",
              "    fill: var(--disabled-fill-color);\n",
              "    box-shadow: none;\n",
              "  }\n",
              "\n",
              "  .colab-df-spinner {\n",
              "    border: 2px solid var(--fill-color);\n",
              "    border-color: transparent;\n",
              "    border-bottom-color: var(--fill-color);\n",
              "    animation:\n",
              "      spin 1s steps(1) infinite;\n",
              "  }\n",
              "\n",
              "  @keyframes spin {\n",
              "    0% {\n",
              "      border-color: transparent;\n",
              "      border-bottom-color: var(--fill-color);\n",
              "      border-left-color: var(--fill-color);\n",
              "    }\n",
              "    20% {\n",
              "      border-color: transparent;\n",
              "      border-left-color: var(--fill-color);\n",
              "      border-top-color: var(--fill-color);\n",
              "    }\n",
              "    30% {\n",
              "      border-color: transparent;\n",
              "      border-left-color: var(--fill-color);\n",
              "      border-top-color: var(--fill-color);\n",
              "      border-right-color: var(--fill-color);\n",
              "    }\n",
              "    40% {\n",
              "      border-color: transparent;\n",
              "      border-right-color: var(--fill-color);\n",
              "      border-top-color: var(--fill-color);\n",
              "    }\n",
              "    60% {\n",
              "      border-color: transparent;\n",
              "      border-right-color: var(--fill-color);\n",
              "    }\n",
              "    80% {\n",
              "      border-color: transparent;\n",
              "      border-right-color: var(--fill-color);\n",
              "      border-bottom-color: var(--fill-color);\n",
              "    }\n",
              "    90% {\n",
              "      border-color: transparent;\n",
              "      border-bottom-color: var(--fill-color);\n",
              "    }\n",
              "  }\n",
              "</style>\n",
              "\n",
              "  <script>\n",
              "    async function quickchart(key) {\n",
              "      const quickchartButtonEl =\n",
              "        document.querySelector('#' + key + ' button');\n",
              "      quickchartButtonEl.disabled = true;  // To prevent multiple clicks.\n",
              "      quickchartButtonEl.classList.add('colab-df-spinner');\n",
              "      try {\n",
              "        const charts = await google.colab.kernel.invokeFunction(\n",
              "            'suggestCharts', [key], {});\n",
              "      } catch (error) {\n",
              "        console.error('Error during call to suggestCharts:', error);\n",
              "      }\n",
              "      quickchartButtonEl.classList.remove('colab-df-spinner');\n",
              "      quickchartButtonEl.classList.add('colab-df-quickchart-complete');\n",
              "    }\n",
              "    (() => {\n",
              "      let quickchartButtonEl =\n",
              "        document.querySelector('#df-47f4807f-12f0-4710-b551-897c75530e13 button');\n",
              "      quickchartButtonEl.style.display =\n",
              "        google.colab.kernel.accessAllowed ? 'block' : 'none';\n",
              "    })();\n",
              "  </script>\n",
              "</div>\n",
              "\n",
              "  <div id=\"id_6ce98eff-ed34-4111-b6b5-a3cdede2cc6a\">\n",
              "    <style>\n",
              "      .colab-df-generate {\n",
              "        background-color: #E8F0FE;\n",
              "        border: none;\n",
              "        border-radius: 50%;\n",
              "        cursor: pointer;\n",
              "        display: none;\n",
              "        fill: #1967D2;\n",
              "        height: 32px;\n",
              "        padding: 0 0 0 0;\n",
              "        width: 32px;\n",
              "      }\n",
              "\n",
              "      .colab-df-generate:hover {\n",
              "        background-color: #E2EBFA;\n",
              "        box-shadow: 0px 1px 2px rgba(60, 64, 67, 0.3), 0px 1px 3px 1px rgba(60, 64, 67, 0.15);\n",
              "        fill: #174EA6;\n",
              "      }\n",
              "\n",
              "      [theme=dark] .colab-df-generate {\n",
              "        background-color: #3B4455;\n",
              "        fill: #D2E3FC;\n",
              "      }\n",
              "\n",
              "      [theme=dark] .colab-df-generate:hover {\n",
              "        background-color: #434B5C;\n",
              "        box-shadow: 0px 1px 3px 1px rgba(0, 0, 0, 0.15);\n",
              "        filter: drop-shadow(0px 1px 2px rgba(0, 0, 0, 0.3));\n",
              "        fill: #FFFFFF;\n",
              "      }\n",
              "    </style>\n",
              "    <button class=\"colab-df-generate\" onclick=\"generateWithVariable('df')\"\n",
              "            title=\"Generate code using this dataframe.\"\n",
              "            style=\"display:none;\">\n",
              "\n",
              "  <svg xmlns=\"http://www.w3.org/2000/svg\" height=\"24px\"viewBox=\"0 0 24 24\"\n",
              "       width=\"24px\">\n",
              "    <path d=\"M7,19H8.4L18.45,9,17,7.55,7,17.6ZM5,21V16.75L18.45,3.32a2,2,0,0,1,2.83,0l1.4,1.43a1.91,1.91,0,0,1,.58,1.4,1.91,1.91,0,0,1-.58,1.4L9.25,21ZM18.45,9,17,7.55Zm-12,3A5.31,5.31,0,0,0,4.9,8.1,5.31,5.31,0,0,0,1,6.5,5.31,5.31,0,0,0,4.9,4.9,5.31,5.31,0,0,0,6.5,1,5.31,5.31,0,0,0,8.1,4.9,5.31,5.31,0,0,0,12,6.5,5.46,5.46,0,0,0,6.5,12Z\"/>\n",
              "  </svg>\n",
              "    </button>\n",
              "    <script>\n",
              "      (() => {\n",
              "      const buttonEl =\n",
              "        document.querySelector('#id_6ce98eff-ed34-4111-b6b5-a3cdede2cc6a button.colab-df-generate');\n",
              "      buttonEl.style.display =\n",
              "        google.colab.kernel.accessAllowed ? 'block' : 'none';\n",
              "\n",
              "      buttonEl.onclick = () => {\n",
              "        google.colab.notebook.generateWithVariable('df');\n",
              "      }\n",
              "      })();\n",
              "    </script>\n",
              "  </div>\n",
              "\n",
              "    </div>\n",
              "  </div>\n"
            ]
          },
          "metadata": {},
          "execution_count": 3
        }
      ]
    },
    {
      "cell_type": "code",
      "source": [
        "df.columns"
      ],
      "metadata": {
        "colab": {
          "base_uri": "https://localhost:8080/"
        },
        "id": "d7Y9ne2WiQGD",
        "outputId": "feaa3945-1084-45a4-f826-7c8e0923e497"
      },
      "execution_count": null,
      "outputs": [
        {
          "output_type": "execute_result",
          "data": {
            "text/plain": [
              "Index(['NU_INSCRICAO', 'NU_ANO', 'TP_FAIXA_ETARIA', 'TP_SEXO',\n",
              "       'TP_ESTADO_CIVIL', 'TP_COR_RACA', 'TP_NACIONALIDADE', 'TP_ST_CONCLUSAO',\n",
              "       'TP_ANO_CONCLUIU', 'TP_ESCOLA', 'TP_ENSINO', 'IN_TREINEIRO',\n",
              "       'CO_MUNICIPIO_ESC', 'NO_MUNICIPIO_ESC', 'CO_UF_ESC', 'SG_UF_ESC',\n",
              "       'TP_DEPENDENCIA_ADM_ESC', 'TP_LOCALIZACAO_ESC', 'TP_SIT_FUNC_ESC',\n",
              "       'CO_MUNICIPIO_PROVA', 'NO_MUNICIPIO_PROVA', 'CO_UF_PROVA',\n",
              "       'SG_UF_PROVA', 'TP_PRESENCA_CN', 'TP_PRESENCA_CH', 'TP_PRESENCA_LC',\n",
              "       'TP_PRESENCA_MT', 'CO_PROVA_CN', 'CO_PROVA_CH', 'CO_PROVA_LC',\n",
              "       'CO_PROVA_MT', 'NU_NOTA_CN', 'NU_NOTA_CH', 'NU_NOTA_LC', 'NU_NOTA_MT',\n",
              "       'TX_RESPOSTAS_CN', 'TX_RESPOSTAS_CH', 'TX_RESPOSTAS_LC',\n",
              "       'TX_RESPOSTAS_MT', 'TP_LINGUA', 'TX_GABARITO_CN', 'TX_GABARITO_CH',\n",
              "       'TX_GABARITO_LC', 'TX_GABARITO_MT', 'TP_STATUS_REDACAO',\n",
              "       'NU_NOTA_COMP1', 'NU_NOTA_COMP2', 'NU_NOTA_COMP3', 'NU_NOTA_COMP4',\n",
              "       'NU_NOTA_COMP5', 'NU_NOTA_REDACAO', 'Q001', 'Q002', 'Q003', 'Q004',\n",
              "       'Q005', 'Q006', 'Q007', 'Q008', 'Q009', 'Q010', 'Q011', 'Q012', 'Q013',\n",
              "       'Q014', 'Q015', 'Q016', 'Q017', 'Q018', 'Q019', 'Q020', 'Q021', 'Q022',\n",
              "       'Q023', 'Q024', 'Q025'],\n",
              "      dtype='object')"
            ]
          },
          "metadata": {},
          "execution_count": 4
        }
      ]
    },
    {
      "cell_type": "code",
      "source": [
        "df = df[['TP_FAIXA_ETARIA', 'TP_SEXO',\n",
        "       'TP_COR_RACA', 'TP_NACIONALIDADE', 'TP_ESCOLA',\n",
        "       'SG_UF_PROVA', 'NU_NOTA_CN', 'NU_NOTA_CH', 'NU_NOTA_LC', 'NU_NOTA_MT',\n",
        "       'TP_LINGUA', 'TP_STATUS_REDACAO', 'NU_NOTA_REDACAO', 'Q001', 'Q002', 'Q006', 'Q025']].copy()#o que significa na integra? pra explicar"
      ],
      "metadata": {
        "id": "O7tkuPWNx38f"
      },
      "execution_count": null,
      "outputs": []
    },
    {
      "cell_type": "code",
      "source": [
        "df.shape"
      ],
      "metadata": {
        "colab": {
          "base_uri": "https://localhost:8080/"
        },
        "id": "TL1qdLXViWoS",
        "outputId": "540ec1e6-1999-4ff8-ba4b-b0a88ee66839"
      },
      "execution_count": null,
      "outputs": [
        {
          "output_type": "execute_result",
          "data": {
            "text/plain": [
              "(3476105, 17)"
            ]
          },
          "metadata": {},
          "execution_count": 6
        }
      ]
    },
    {
      "cell_type": "code",
      "source": [
        "df.head(15).style.set_properties(**{'background-color': '#ffd8f6','color': '#000','border': '1px solid #000000'})"
      ],
      "metadata": {
        "colab": {
          "base_uri": "https://localhost:8080/",
          "height": 555
        },
        "id": "nHid4nh6ua8j",
        "outputId": "1ffe22e3-2c61-45c6-8687-4c4083696841"
      },
      "execution_count": null,
      "outputs": [
        {
          "output_type": "execute_result",
          "data": {
            "text/plain": [
              "<pandas.io.formats.style.Styler at 0x78d3ba7676d0>"
            ],
            "text/html": [
              "<style type=\"text/css\">\n",
              "#T_23963_row0_col0, #T_23963_row0_col1, #T_23963_row0_col2, #T_23963_row0_col3, #T_23963_row0_col4, #T_23963_row0_col5, #T_23963_row0_col6, #T_23963_row0_col7, #T_23963_row0_col8, #T_23963_row0_col9, #T_23963_row0_col10, #T_23963_row0_col11, #T_23963_row0_col12, #T_23963_row0_col13, #T_23963_row0_col14, #T_23963_row0_col15, #T_23963_row0_col16, #T_23963_row1_col0, #T_23963_row1_col1, #T_23963_row1_col2, #T_23963_row1_col3, #T_23963_row1_col4, #T_23963_row1_col5, #T_23963_row1_col6, #T_23963_row1_col7, #T_23963_row1_col8, #T_23963_row1_col9, #T_23963_row1_col10, #T_23963_row1_col11, #T_23963_row1_col12, #T_23963_row1_col13, #T_23963_row1_col14, #T_23963_row1_col15, #T_23963_row1_col16, #T_23963_row2_col0, #T_23963_row2_col1, #T_23963_row2_col2, #T_23963_row2_col3, #T_23963_row2_col4, #T_23963_row2_col5, #T_23963_row2_col6, #T_23963_row2_col7, #T_23963_row2_col8, #T_23963_row2_col9, #T_23963_row2_col10, #T_23963_row2_col11, #T_23963_row2_col12, #T_23963_row2_col13, #T_23963_row2_col14, #T_23963_row2_col15, #T_23963_row2_col16, #T_23963_row3_col0, #T_23963_row3_col1, #T_23963_row3_col2, #T_23963_row3_col3, #T_23963_row3_col4, #T_23963_row3_col5, #T_23963_row3_col6, #T_23963_row3_col7, #T_23963_row3_col8, #T_23963_row3_col9, #T_23963_row3_col10, #T_23963_row3_col11, #T_23963_row3_col12, #T_23963_row3_col13, #T_23963_row3_col14, #T_23963_row3_col15, #T_23963_row3_col16, #T_23963_row4_col0, #T_23963_row4_col1, #T_23963_row4_col2, #T_23963_row4_col3, #T_23963_row4_col4, #T_23963_row4_col5, #T_23963_row4_col6, #T_23963_row4_col7, #T_23963_row4_col8, #T_23963_row4_col9, #T_23963_row4_col10, #T_23963_row4_col11, #T_23963_row4_col12, #T_23963_row4_col13, #T_23963_row4_col14, #T_23963_row4_col15, #T_23963_row4_col16, #T_23963_row5_col0, #T_23963_row5_col1, #T_23963_row5_col2, #T_23963_row5_col3, #T_23963_row5_col4, #T_23963_row5_col5, #T_23963_row5_col6, #T_23963_row5_col7, #T_23963_row5_col8, #T_23963_row5_col9, #T_23963_row5_col10, #T_23963_row5_col11, #T_23963_row5_col12, #T_23963_row5_col13, #T_23963_row5_col14, #T_23963_row5_col15, #T_23963_row5_col16, #T_23963_row6_col0, #T_23963_row6_col1, #T_23963_row6_col2, #T_23963_row6_col3, #T_23963_row6_col4, #T_23963_row6_col5, #T_23963_row6_col6, #T_23963_row6_col7, #T_23963_row6_col8, #T_23963_row6_col9, #T_23963_row6_col10, #T_23963_row6_col11, #T_23963_row6_col12, #T_23963_row6_col13, #T_23963_row6_col14, #T_23963_row6_col15, #T_23963_row6_col16, #T_23963_row7_col0, #T_23963_row7_col1, #T_23963_row7_col2, #T_23963_row7_col3, #T_23963_row7_col4, #T_23963_row7_col5, #T_23963_row7_col6, #T_23963_row7_col7, #T_23963_row7_col8, #T_23963_row7_col9, #T_23963_row7_col10, #T_23963_row7_col11, #T_23963_row7_col12, #T_23963_row7_col13, #T_23963_row7_col14, #T_23963_row7_col15, #T_23963_row7_col16, #T_23963_row8_col0, #T_23963_row8_col1, #T_23963_row8_col2, #T_23963_row8_col3, #T_23963_row8_col4, #T_23963_row8_col5, #T_23963_row8_col6, #T_23963_row8_col7, #T_23963_row8_col8, #T_23963_row8_col9, #T_23963_row8_col10, #T_23963_row8_col11, #T_23963_row8_col12, #T_23963_row8_col13, #T_23963_row8_col14, #T_23963_row8_col15, #T_23963_row8_col16, #T_23963_row9_col0, #T_23963_row9_col1, #T_23963_row9_col2, #T_23963_row9_col3, #T_23963_row9_col4, #T_23963_row9_col5, #T_23963_row9_col6, #T_23963_row9_col7, #T_23963_row9_col8, #T_23963_row9_col9, #T_23963_row9_col10, #T_23963_row9_col11, #T_23963_row9_col12, #T_23963_row9_col13, #T_23963_row9_col14, #T_23963_row9_col15, #T_23963_row9_col16, #T_23963_row10_col0, #T_23963_row10_col1, #T_23963_row10_col2, #T_23963_row10_col3, #T_23963_row10_col4, #T_23963_row10_col5, #T_23963_row10_col6, #T_23963_row10_col7, #T_23963_row10_col8, #T_23963_row10_col9, #T_23963_row10_col10, #T_23963_row10_col11, #T_23963_row10_col12, #T_23963_row10_col13, #T_23963_row10_col14, #T_23963_row10_col15, #T_23963_row10_col16, #T_23963_row11_col0, #T_23963_row11_col1, #T_23963_row11_col2, #T_23963_row11_col3, #T_23963_row11_col4, #T_23963_row11_col5, #T_23963_row11_col6, #T_23963_row11_col7, #T_23963_row11_col8, #T_23963_row11_col9, #T_23963_row11_col10, #T_23963_row11_col11, #T_23963_row11_col12, #T_23963_row11_col13, #T_23963_row11_col14, #T_23963_row11_col15, #T_23963_row11_col16, #T_23963_row12_col0, #T_23963_row12_col1, #T_23963_row12_col2, #T_23963_row12_col3, #T_23963_row12_col4, #T_23963_row12_col5, #T_23963_row12_col6, #T_23963_row12_col7, #T_23963_row12_col8, #T_23963_row12_col9, #T_23963_row12_col10, #T_23963_row12_col11, #T_23963_row12_col12, #T_23963_row12_col13, #T_23963_row12_col14, #T_23963_row12_col15, #T_23963_row12_col16, #T_23963_row13_col0, #T_23963_row13_col1, #T_23963_row13_col2, #T_23963_row13_col3, #T_23963_row13_col4, #T_23963_row13_col5, #T_23963_row13_col6, #T_23963_row13_col7, #T_23963_row13_col8, #T_23963_row13_col9, #T_23963_row13_col10, #T_23963_row13_col11, #T_23963_row13_col12, #T_23963_row13_col13, #T_23963_row13_col14, #T_23963_row13_col15, #T_23963_row13_col16, #T_23963_row14_col0, #T_23963_row14_col1, #T_23963_row14_col2, #T_23963_row14_col3, #T_23963_row14_col4, #T_23963_row14_col5, #T_23963_row14_col6, #T_23963_row14_col7, #T_23963_row14_col8, #T_23963_row14_col9, #T_23963_row14_col10, #T_23963_row14_col11, #T_23963_row14_col12, #T_23963_row14_col13, #T_23963_row14_col14, #T_23963_row14_col15, #T_23963_row14_col16 {\n",
              "  background-color: #ffd8f6;\n",
              "  color: #000;\n",
              "  border: 1px solid #000000;\n",
              "}\n",
              "</style>\n",
              "<table id=\"T_23963\" class=\"dataframe\">\n",
              "  <thead>\n",
              "    <tr>\n",
              "      <th class=\"blank level0\" >&nbsp;</th>\n",
              "      <th id=\"T_23963_level0_col0\" class=\"col_heading level0 col0\" >TP_FAIXA_ETARIA</th>\n",
              "      <th id=\"T_23963_level0_col1\" class=\"col_heading level0 col1\" >TP_SEXO</th>\n",
              "      <th id=\"T_23963_level0_col2\" class=\"col_heading level0 col2\" >TP_COR_RACA</th>\n",
              "      <th id=\"T_23963_level0_col3\" class=\"col_heading level0 col3\" >TP_NACIONALIDADE</th>\n",
              "      <th id=\"T_23963_level0_col4\" class=\"col_heading level0 col4\" >TP_ESCOLA</th>\n",
              "      <th id=\"T_23963_level0_col5\" class=\"col_heading level0 col5\" >SG_UF_PROVA</th>\n",
              "      <th id=\"T_23963_level0_col6\" class=\"col_heading level0 col6\" >NU_NOTA_CN</th>\n",
              "      <th id=\"T_23963_level0_col7\" class=\"col_heading level0 col7\" >NU_NOTA_CH</th>\n",
              "      <th id=\"T_23963_level0_col8\" class=\"col_heading level0 col8\" >NU_NOTA_LC</th>\n",
              "      <th id=\"T_23963_level0_col9\" class=\"col_heading level0 col9\" >NU_NOTA_MT</th>\n",
              "      <th id=\"T_23963_level0_col10\" class=\"col_heading level0 col10\" >TP_LINGUA</th>\n",
              "      <th id=\"T_23963_level0_col11\" class=\"col_heading level0 col11\" >TP_STATUS_REDACAO</th>\n",
              "      <th id=\"T_23963_level0_col12\" class=\"col_heading level0 col12\" >NU_NOTA_REDACAO</th>\n",
              "      <th id=\"T_23963_level0_col13\" class=\"col_heading level0 col13\" >Q001</th>\n",
              "      <th id=\"T_23963_level0_col14\" class=\"col_heading level0 col14\" >Q002</th>\n",
              "      <th id=\"T_23963_level0_col15\" class=\"col_heading level0 col15\" >Q006</th>\n",
              "      <th id=\"T_23963_level0_col16\" class=\"col_heading level0 col16\" >Q025</th>\n",
              "    </tr>\n",
              "  </thead>\n",
              "  <tbody>\n",
              "    <tr>\n",
              "      <th id=\"T_23963_level0_row0\" class=\"row_heading level0 row0\" >0</th>\n",
              "      <td id=\"T_23963_row0_col0\" class=\"data row0 col0\" >14</td>\n",
              "      <td id=\"T_23963_row0_col1\" class=\"data row0 col1\" >M</td>\n",
              "      <td id=\"T_23963_row0_col2\" class=\"data row0 col2\" >2</td>\n",
              "      <td id=\"T_23963_row0_col3\" class=\"data row0 col3\" >1</td>\n",
              "      <td id=\"T_23963_row0_col4\" class=\"data row0 col4\" >1</td>\n",
              "      <td id=\"T_23963_row0_col5\" class=\"data row0 col5\" >DF</td>\n",
              "      <td id=\"T_23963_row0_col6\" class=\"data row0 col6\" >nan</td>\n",
              "      <td id=\"T_23963_row0_col7\" class=\"data row0 col7\" >nan</td>\n",
              "      <td id=\"T_23963_row0_col8\" class=\"data row0 col8\" >nan</td>\n",
              "      <td id=\"T_23963_row0_col9\" class=\"data row0 col9\" >nan</td>\n",
              "      <td id=\"T_23963_row0_col10\" class=\"data row0 col10\" >0</td>\n",
              "      <td id=\"T_23963_row0_col11\" class=\"data row0 col11\" >nan</td>\n",
              "      <td id=\"T_23963_row0_col12\" class=\"data row0 col12\" >nan</td>\n",
              "      <td id=\"T_23963_row0_col13\" class=\"data row0 col13\" >A</td>\n",
              "      <td id=\"T_23963_row0_col14\" class=\"data row0 col14\" >A</td>\n",
              "      <td id=\"T_23963_row0_col15\" class=\"data row0 col15\" >B</td>\n",
              "      <td id=\"T_23963_row0_col16\" class=\"data row0 col16\" >A</td>\n",
              "    </tr>\n",
              "    <tr>\n",
              "      <th id=\"T_23963_level0_row1\" class=\"row_heading level0 row1\" >1</th>\n",
              "      <td id=\"T_23963_row1_col0\" class=\"data row1 col0\" >14</td>\n",
              "      <td id=\"T_23963_row1_col1\" class=\"data row1 col1\" >M</td>\n",
              "      <td id=\"T_23963_row1_col2\" class=\"data row1 col2\" >1</td>\n",
              "      <td id=\"T_23963_row1_col3\" class=\"data row1 col3\" >1</td>\n",
              "      <td id=\"T_23963_row1_col4\" class=\"data row1 col4\" >1</td>\n",
              "      <td id=\"T_23963_row1_col5\" class=\"data row1 col5\" >DF</td>\n",
              "      <td id=\"T_23963_row1_col6\" class=\"data row1 col6\" >nan</td>\n",
              "      <td id=\"T_23963_row1_col7\" class=\"data row1 col7\" >nan</td>\n",
              "      <td id=\"T_23963_row1_col8\" class=\"data row1 col8\" >nan</td>\n",
              "      <td id=\"T_23963_row1_col9\" class=\"data row1 col9\" >nan</td>\n",
              "      <td id=\"T_23963_row1_col10\" class=\"data row1 col10\" >0</td>\n",
              "      <td id=\"T_23963_row1_col11\" class=\"data row1 col11\" >nan</td>\n",
              "      <td id=\"T_23963_row1_col12\" class=\"data row1 col12\" >nan</td>\n",
              "      <td id=\"T_23963_row1_col13\" class=\"data row1 col13\" >D</td>\n",
              "      <td id=\"T_23963_row1_col14\" class=\"data row1 col14\" >D</td>\n",
              "      <td id=\"T_23963_row1_col15\" class=\"data row1 col15\" >Q</td>\n",
              "      <td id=\"T_23963_row1_col16\" class=\"data row1 col16\" >B</td>\n",
              "    </tr>\n",
              "    <tr>\n",
              "      <th id=\"T_23963_level0_row2\" class=\"row_heading level0 row2\" >2</th>\n",
              "      <td id=\"T_23963_row2_col0\" class=\"data row2 col0\" >5</td>\n",
              "      <td id=\"T_23963_row2_col1\" class=\"data row2 col1\" >F</td>\n",
              "      <td id=\"T_23963_row2_col2\" class=\"data row2 col2\" >2</td>\n",
              "      <td id=\"T_23963_row2_col3\" class=\"data row2 col3\" >1</td>\n",
              "      <td id=\"T_23963_row2_col4\" class=\"data row2 col4\" >1</td>\n",
              "      <td id=\"T_23963_row2_col5\" class=\"data row2 col5\" >BA</td>\n",
              "      <td id=\"T_23963_row2_col6\" class=\"data row2 col6\" >421.100000</td>\n",
              "      <td id=\"T_23963_row2_col7\" class=\"data row2 col7\" >546.000000</td>\n",
              "      <td id=\"T_23963_row2_col8\" class=\"data row2 col8\" >498.800000</td>\n",
              "      <td id=\"T_23963_row2_col9\" class=\"data row2 col9\" >565.300000</td>\n",
              "      <td id=\"T_23963_row2_col10\" class=\"data row2 col10\" >1</td>\n",
              "      <td id=\"T_23963_row2_col11\" class=\"data row2 col11\" >1.000000</td>\n",
              "      <td id=\"T_23963_row2_col12\" class=\"data row2 col12\" >760.000000</td>\n",
              "      <td id=\"T_23963_row2_col13\" class=\"data row2 col13\" >E</td>\n",
              "      <td id=\"T_23963_row2_col14\" class=\"data row2 col14\" >F</td>\n",
              "      <td id=\"T_23963_row2_col15\" class=\"data row2 col15\" >B</td>\n",
              "      <td id=\"T_23963_row2_col16\" class=\"data row2 col16\" >B</td>\n",
              "    </tr>\n",
              "    <tr>\n",
              "      <th id=\"T_23963_level0_row3\" class=\"row_heading level0 row3\" >3</th>\n",
              "      <td id=\"T_23963_row3_col0\" class=\"data row3 col0\" >6</td>\n",
              "      <td id=\"T_23963_row3_col1\" class=\"data row3 col1\" >M</td>\n",
              "      <td id=\"T_23963_row3_col2\" class=\"data row3 col2\" >3</td>\n",
              "      <td id=\"T_23963_row3_col3\" class=\"data row3 col3\" >1</td>\n",
              "      <td id=\"T_23963_row3_col4\" class=\"data row3 col4\" >1</td>\n",
              "      <td id=\"T_23963_row3_col5\" class=\"data row3 col5\" >ES</td>\n",
              "      <td id=\"T_23963_row3_col6\" class=\"data row3 col6\" >490.700000</td>\n",
              "      <td id=\"T_23963_row3_col7\" class=\"data row3 col7\" >388.600000</td>\n",
              "      <td id=\"T_23963_row3_col8\" class=\"data row3 col8\" >357.800000</td>\n",
              "      <td id=\"T_23963_row3_col9\" class=\"data row3 col9\" >416.000000</td>\n",
              "      <td id=\"T_23963_row3_col10\" class=\"data row3 col10\" >1</td>\n",
              "      <td id=\"T_23963_row3_col11\" class=\"data row3 col11\" >1.000000</td>\n",
              "      <td id=\"T_23963_row3_col12\" class=\"data row3 col12\" >320.000000</td>\n",
              "      <td id=\"T_23963_row3_col13\" class=\"data row3 col13\" >C</td>\n",
              "      <td id=\"T_23963_row3_col14\" class=\"data row3 col14\" >A</td>\n",
              "      <td id=\"T_23963_row3_col15\" class=\"data row3 col15\" >A</td>\n",
              "      <td id=\"T_23963_row3_col16\" class=\"data row3 col16\" >B</td>\n",
              "    </tr>\n",
              "    <tr>\n",
              "      <th id=\"T_23963_level0_row4\" class=\"row_heading level0 row4\" >4</th>\n",
              "      <td id=\"T_23963_row4_col0\" class=\"data row4 col0\" >4</td>\n",
              "      <td id=\"T_23963_row4_col1\" class=\"data row4 col1\" >M</td>\n",
              "      <td id=\"T_23963_row4_col2\" class=\"data row4 col2\" >3</td>\n",
              "      <td id=\"T_23963_row4_col3\" class=\"data row4 col3\" >1</td>\n",
              "      <td id=\"T_23963_row4_col4\" class=\"data row4 col4\" >1</td>\n",
              "      <td id=\"T_23963_row4_col5\" class=\"data row4 col5\" >PA</td>\n",
              "      <td id=\"T_23963_row4_col6\" class=\"data row4 col6\" >nan</td>\n",
              "      <td id=\"T_23963_row4_col7\" class=\"data row4 col7\" >nan</td>\n",
              "      <td id=\"T_23963_row4_col8\" class=\"data row4 col8\" >nan</td>\n",
              "      <td id=\"T_23963_row4_col9\" class=\"data row4 col9\" >nan</td>\n",
              "      <td id=\"T_23963_row4_col10\" class=\"data row4 col10\" >0</td>\n",
              "      <td id=\"T_23963_row4_col11\" class=\"data row4 col11\" >nan</td>\n",
              "      <td id=\"T_23963_row4_col12\" class=\"data row4 col12\" >nan</td>\n",
              "      <td id=\"T_23963_row4_col13\" class=\"data row4 col13\" >D</td>\n",
              "      <td id=\"T_23963_row4_col14\" class=\"data row4 col14\" >B</td>\n",
              "      <td id=\"T_23963_row4_col15\" class=\"data row4 col15\" >B</td>\n",
              "      <td id=\"T_23963_row4_col16\" class=\"data row4 col16\" >A</td>\n",
              "    </tr>\n",
              "    <tr>\n",
              "      <th id=\"T_23963_level0_row5\" class=\"row_heading level0 row5\" >5</th>\n",
              "      <td id=\"T_23963_row5_col0\" class=\"data row5 col0\" >5</td>\n",
              "      <td id=\"T_23963_row5_col1\" class=\"data row5 col1\" >F</td>\n",
              "      <td id=\"T_23963_row5_col2\" class=\"data row5 col2\" >3</td>\n",
              "      <td id=\"T_23963_row5_col3\" class=\"data row5 col3\" >1</td>\n",
              "      <td id=\"T_23963_row5_col4\" class=\"data row5 col4\" >1</td>\n",
              "      <td id=\"T_23963_row5_col5\" class=\"data row5 col5\" >RJ</td>\n",
              "      <td id=\"T_23963_row5_col6\" class=\"data row5 col6\" >nan</td>\n",
              "      <td id=\"T_23963_row5_col7\" class=\"data row5 col7\" >nan</td>\n",
              "      <td id=\"T_23963_row5_col8\" class=\"data row5 col8\" >nan</td>\n",
              "      <td id=\"T_23963_row5_col9\" class=\"data row5 col9\" >nan</td>\n",
              "      <td id=\"T_23963_row5_col10\" class=\"data row5 col10\" >1</td>\n",
              "      <td id=\"T_23963_row5_col11\" class=\"data row5 col11\" >nan</td>\n",
              "      <td id=\"T_23963_row5_col12\" class=\"data row5 col12\" >nan</td>\n",
              "      <td id=\"T_23963_row5_col13\" class=\"data row5 col13\" >E</td>\n",
              "      <td id=\"T_23963_row5_col14\" class=\"data row5 col14\" >C</td>\n",
              "      <td id=\"T_23963_row5_col15\" class=\"data row5 col15\" >C</td>\n",
              "      <td id=\"T_23963_row5_col16\" class=\"data row5 col16\" >B</td>\n",
              "    </tr>\n",
              "    <tr>\n",
              "      <th id=\"T_23963_level0_row6\" class=\"row_heading level0 row6\" >6</th>\n",
              "      <td id=\"T_23963_row6_col0\" class=\"data row6 col0\" >4</td>\n",
              "      <td id=\"T_23963_row6_col1\" class=\"data row6 col1\" >M</td>\n",
              "      <td id=\"T_23963_row6_col2\" class=\"data row6 col2\" >2</td>\n",
              "      <td id=\"T_23963_row6_col3\" class=\"data row6 col3\" >1</td>\n",
              "      <td id=\"T_23963_row6_col4\" class=\"data row6 col4\" >1</td>\n",
              "      <td id=\"T_23963_row6_col5\" class=\"data row6 col5\" >PE</td>\n",
              "      <td id=\"T_23963_row6_col6\" class=\"data row6 col6\" >nan</td>\n",
              "      <td id=\"T_23963_row6_col7\" class=\"data row6 col7\" >nan</td>\n",
              "      <td id=\"T_23963_row6_col8\" class=\"data row6 col8\" >nan</td>\n",
              "      <td id=\"T_23963_row6_col9\" class=\"data row6 col9\" >nan</td>\n",
              "      <td id=\"T_23963_row6_col10\" class=\"data row6 col10\" >0</td>\n",
              "      <td id=\"T_23963_row6_col11\" class=\"data row6 col11\" >nan</td>\n",
              "      <td id=\"T_23963_row6_col12\" class=\"data row6 col12\" >nan</td>\n",
              "      <td id=\"T_23963_row6_col13\" class=\"data row6 col13\" >B</td>\n",
              "      <td id=\"T_23963_row6_col14\" class=\"data row6 col14\" >B</td>\n",
              "      <td id=\"T_23963_row6_col15\" class=\"data row6 col15\" >B</td>\n",
              "      <td id=\"T_23963_row6_col16\" class=\"data row6 col16\" >B</td>\n",
              "    </tr>\n",
              "    <tr>\n",
              "      <th id=\"T_23963_level0_row7\" class=\"row_heading level0 row7\" >7</th>\n",
              "      <td id=\"T_23963_row7_col0\" class=\"data row7 col0\" >6</td>\n",
              "      <td id=\"T_23963_row7_col1\" class=\"data row7 col1\" >F</td>\n",
              "      <td id=\"T_23963_row7_col2\" class=\"data row7 col2\" >2</td>\n",
              "      <td id=\"T_23963_row7_col3\" class=\"data row7 col3\" >1</td>\n",
              "      <td id=\"T_23963_row7_col4\" class=\"data row7 col4\" >1</td>\n",
              "      <td id=\"T_23963_row7_col5\" class=\"data row7 col5\" >RJ</td>\n",
              "      <td id=\"T_23963_row7_col6\" class=\"data row7 col6\" >398.100000</td>\n",
              "      <td id=\"T_23963_row7_col7\" class=\"data row7 col7\" >427.300000</td>\n",
              "      <td id=\"T_23963_row7_col8\" class=\"data row7 col8\" >400.200000</td>\n",
              "      <td id=\"T_23963_row7_col9\" class=\"data row7 col9\" >404.900000</td>\n",
              "      <td id=\"T_23963_row7_col10\" class=\"data row7 col10\" >1</td>\n",
              "      <td id=\"T_23963_row7_col11\" class=\"data row7 col11\" >1.000000</td>\n",
              "      <td id=\"T_23963_row7_col12\" class=\"data row7 col12\" >440.000000</td>\n",
              "      <td id=\"T_23963_row7_col13\" class=\"data row7 col13\" >E</td>\n",
              "      <td id=\"T_23963_row7_col14\" class=\"data row7 col14\" >E</td>\n",
              "      <td id=\"T_23963_row7_col15\" class=\"data row7 col15\" >B</td>\n",
              "      <td id=\"T_23963_row7_col16\" class=\"data row7 col16\" >B</td>\n",
              "    </tr>\n",
              "    <tr>\n",
              "      <th id=\"T_23963_level0_row8\" class=\"row_heading level0 row8\" >8</th>\n",
              "      <td id=\"T_23963_row8_col0\" class=\"data row8 col0\" >8</td>\n",
              "      <td id=\"T_23963_row8_col1\" class=\"data row8 col1\" >F</td>\n",
              "      <td id=\"T_23963_row8_col2\" class=\"data row8 col2\" >3</td>\n",
              "      <td id=\"T_23963_row8_col3\" class=\"data row8 col3\" >1</td>\n",
              "      <td id=\"T_23963_row8_col4\" class=\"data row8 col4\" >1</td>\n",
              "      <td id=\"T_23963_row8_col5\" class=\"data row8 col5\" >BA</td>\n",
              "      <td id=\"T_23963_row8_col6\" class=\"data row8 col6\" >nan</td>\n",
              "      <td id=\"T_23963_row8_col7\" class=\"data row8 col7\" >nan</td>\n",
              "      <td id=\"T_23963_row8_col8\" class=\"data row8 col8\" >nan</td>\n",
              "      <td id=\"T_23963_row8_col9\" class=\"data row8 col9\" >nan</td>\n",
              "      <td id=\"T_23963_row8_col10\" class=\"data row8 col10\" >1</td>\n",
              "      <td id=\"T_23963_row8_col11\" class=\"data row8 col11\" >nan</td>\n",
              "      <td id=\"T_23963_row8_col12\" class=\"data row8 col12\" >nan</td>\n",
              "      <td id=\"T_23963_row8_col13\" class=\"data row8 col13\" >A</td>\n",
              "      <td id=\"T_23963_row8_col14\" class=\"data row8 col14\" >D</td>\n",
              "      <td id=\"T_23963_row8_col15\" class=\"data row8 col15\" >B</td>\n",
              "      <td id=\"T_23963_row8_col16\" class=\"data row8 col16\" >B</td>\n",
              "    </tr>\n",
              "    <tr>\n",
              "      <th id=\"T_23963_level0_row9\" class=\"row_heading level0 row9\" >9</th>\n",
              "      <td id=\"T_23963_row9_col0\" class=\"data row9 col0\" >4</td>\n",
              "      <td id=\"T_23963_row9_col1\" class=\"data row9 col1\" >F</td>\n",
              "      <td id=\"T_23963_row9_col2\" class=\"data row9 col2\" >3</td>\n",
              "      <td id=\"T_23963_row9_col3\" class=\"data row9 col3\" >1</td>\n",
              "      <td id=\"T_23963_row9_col4\" class=\"data row9 col4\" >1</td>\n",
              "      <td id=\"T_23963_row9_col5\" class=\"data row9 col5\" >PE</td>\n",
              "      <td id=\"T_23963_row9_col6\" class=\"data row9 col6\" >467.500000</td>\n",
              "      <td id=\"T_23963_row9_col7\" class=\"data row9 col7\" >461.000000</td>\n",
              "      <td id=\"T_23963_row9_col8\" class=\"data row9 col8\" >466.700000</td>\n",
              "      <td id=\"T_23963_row9_col9\" class=\"data row9 col9\" >435.300000</td>\n",
              "      <td id=\"T_23963_row9_col10\" class=\"data row9 col10\" >1</td>\n",
              "      <td id=\"T_23963_row9_col11\" class=\"data row9 col11\" >1.000000</td>\n",
              "      <td id=\"T_23963_row9_col12\" class=\"data row9 col12\" >360.000000</td>\n",
              "      <td id=\"T_23963_row9_col13\" class=\"data row9 col13\" >E</td>\n",
              "      <td id=\"T_23963_row9_col14\" class=\"data row9 col14\" >E</td>\n",
              "      <td id=\"T_23963_row9_col15\" class=\"data row9 col15\" >B</td>\n",
              "      <td id=\"T_23963_row9_col16\" class=\"data row9 col16\" >B</td>\n",
              "    </tr>\n",
              "    <tr>\n",
              "      <th id=\"T_23963_level0_row10\" class=\"row_heading level0 row10\" >10</th>\n",
              "      <td id=\"T_23963_row10_col0\" class=\"data row10 col0\" >4</td>\n",
              "      <td id=\"T_23963_row10_col1\" class=\"data row10 col1\" >F</td>\n",
              "      <td id=\"T_23963_row10_col2\" class=\"data row10 col2\" >3</td>\n",
              "      <td id=\"T_23963_row10_col3\" class=\"data row10 col3\" >1</td>\n",
              "      <td id=\"T_23963_row10_col4\" class=\"data row10 col4\" >1</td>\n",
              "      <td id=\"T_23963_row10_col5\" class=\"data row10 col5\" >PB</td>\n",
              "      <td id=\"T_23963_row10_col6\" class=\"data row10 col6\" >nan</td>\n",
              "      <td id=\"T_23963_row10_col7\" class=\"data row10 col7\" >nan</td>\n",
              "      <td id=\"T_23963_row10_col8\" class=\"data row10 col8\" >nan</td>\n",
              "      <td id=\"T_23963_row10_col9\" class=\"data row10 col9\" >nan</td>\n",
              "      <td id=\"T_23963_row10_col10\" class=\"data row10 col10\" >1</td>\n",
              "      <td id=\"T_23963_row10_col11\" class=\"data row10 col11\" >nan</td>\n",
              "      <td id=\"T_23963_row10_col12\" class=\"data row10 col12\" >nan</td>\n",
              "      <td id=\"T_23963_row10_col13\" class=\"data row10 col13\" >E</td>\n",
              "      <td id=\"T_23963_row10_col14\" class=\"data row10 col14\" >B</td>\n",
              "      <td id=\"T_23963_row10_col15\" class=\"data row10 col15\" >A</td>\n",
              "      <td id=\"T_23963_row10_col16\" class=\"data row10 col16\" >B</td>\n",
              "    </tr>\n",
              "    <tr>\n",
              "      <th id=\"T_23963_level0_row11\" class=\"row_heading level0 row11\" >11</th>\n",
              "      <td id=\"T_23963_row11_col0\" class=\"data row11 col0\" >2</td>\n",
              "      <td id=\"T_23963_row11_col1\" class=\"data row11 col1\" >F</td>\n",
              "      <td id=\"T_23963_row11_col2\" class=\"data row11 col2\" >1</td>\n",
              "      <td id=\"T_23963_row11_col3\" class=\"data row11 col3\" >1</td>\n",
              "      <td id=\"T_23963_row11_col4\" class=\"data row11 col4\" >3</td>\n",
              "      <td id=\"T_23963_row11_col5\" class=\"data row11 col5\" >SE</td>\n",
              "      <td id=\"T_23963_row11_col6\" class=\"data row11 col6\" >458.700000</td>\n",
              "      <td id=\"T_23963_row11_col7\" class=\"data row11 col7\" >539.800000</td>\n",
              "      <td id=\"T_23963_row11_col8\" class=\"data row11 col8\" >488.200000</td>\n",
              "      <td id=\"T_23963_row11_col9\" class=\"data row11 col9\" >456.800000</td>\n",
              "      <td id=\"T_23963_row11_col10\" class=\"data row11 col10\" >1</td>\n",
              "      <td id=\"T_23963_row11_col11\" class=\"data row11 col11\" >1.000000</td>\n",
              "      <td id=\"T_23963_row11_col12\" class=\"data row11 col12\" >940.000000</td>\n",
              "      <td id=\"T_23963_row11_col13\" class=\"data row11 col13\" >E</td>\n",
              "      <td id=\"T_23963_row11_col14\" class=\"data row11 col14\" >E</td>\n",
              "      <td id=\"T_23963_row11_col15\" class=\"data row11 col15\" >B</td>\n",
              "      <td id=\"T_23963_row11_col16\" class=\"data row11 col16\" >B</td>\n",
              "    </tr>\n",
              "    <tr>\n",
              "      <th id=\"T_23963_level0_row12\" class=\"row_heading level0 row12\" >12</th>\n",
              "      <td id=\"T_23963_row12_col0\" class=\"data row12 col0\" >4</td>\n",
              "      <td id=\"T_23963_row12_col1\" class=\"data row12 col1\" >M</td>\n",
              "      <td id=\"T_23963_row12_col2\" class=\"data row12 col2\" >2</td>\n",
              "      <td id=\"T_23963_row12_col3\" class=\"data row12 col3\" >1</td>\n",
              "      <td id=\"T_23963_row12_col4\" class=\"data row12 col4\" >1</td>\n",
              "      <td id=\"T_23963_row12_col5\" class=\"data row12 col5\" >BA</td>\n",
              "      <td id=\"T_23963_row12_col6\" class=\"data row12 col6\" >nan</td>\n",
              "      <td id=\"T_23963_row12_col7\" class=\"data row12 col7\" >nan</td>\n",
              "      <td id=\"T_23963_row12_col8\" class=\"data row12 col8\" >nan</td>\n",
              "      <td id=\"T_23963_row12_col9\" class=\"data row12 col9\" >nan</td>\n",
              "      <td id=\"T_23963_row12_col10\" class=\"data row12 col10\" >1</td>\n",
              "      <td id=\"T_23963_row12_col11\" class=\"data row12 col11\" >nan</td>\n",
              "      <td id=\"T_23963_row12_col12\" class=\"data row12 col12\" >nan</td>\n",
              "      <td id=\"T_23963_row12_col13\" class=\"data row12 col13\" >D</td>\n",
              "      <td id=\"T_23963_row12_col14\" class=\"data row12 col14\" >B</td>\n",
              "      <td id=\"T_23963_row12_col15\" class=\"data row12 col15\" >B</td>\n",
              "      <td id=\"T_23963_row12_col16\" class=\"data row12 col16\" >B</td>\n",
              "    </tr>\n",
              "    <tr>\n",
              "      <th id=\"T_23963_level0_row13\" class=\"row_heading level0 row13\" >13</th>\n",
              "      <td id=\"T_23963_row13_col0\" class=\"data row13 col0\" >6</td>\n",
              "      <td id=\"T_23963_row13_col1\" class=\"data row13 col1\" >F</td>\n",
              "      <td id=\"T_23963_row13_col2\" class=\"data row13 col2\" >3</td>\n",
              "      <td id=\"T_23963_row13_col3\" class=\"data row13 col3\" >1</td>\n",
              "      <td id=\"T_23963_row13_col4\" class=\"data row13 col4\" >1</td>\n",
              "      <td id=\"T_23963_row13_col5\" class=\"data row13 col5\" >SP</td>\n",
              "      <td id=\"T_23963_row13_col6\" class=\"data row13 col6\" >nan</td>\n",
              "      <td id=\"T_23963_row13_col7\" class=\"data row13 col7\" >nan</td>\n",
              "      <td id=\"T_23963_row13_col8\" class=\"data row13 col8\" >nan</td>\n",
              "      <td id=\"T_23963_row13_col9\" class=\"data row13 col9\" >nan</td>\n",
              "      <td id=\"T_23963_row13_col10\" class=\"data row13 col10\" >1</td>\n",
              "      <td id=\"T_23963_row13_col11\" class=\"data row13 col11\" >nan</td>\n",
              "      <td id=\"T_23963_row13_col12\" class=\"data row13 col12\" >nan</td>\n",
              "      <td id=\"T_23963_row13_col13\" class=\"data row13 col13\" >C</td>\n",
              "      <td id=\"T_23963_row13_col14\" class=\"data row13 col14\" >E</td>\n",
              "      <td id=\"T_23963_row13_col15\" class=\"data row13 col15\" >C</td>\n",
              "      <td id=\"T_23963_row13_col16\" class=\"data row13 col16\" >B</td>\n",
              "    </tr>\n",
              "    <tr>\n",
              "      <th id=\"T_23963_level0_row14\" class=\"row_heading level0 row14\" >14</th>\n",
              "      <td id=\"T_23963_row14_col0\" class=\"data row14 col0\" >7</td>\n",
              "      <td id=\"T_23963_row14_col1\" class=\"data row14 col1\" >M</td>\n",
              "      <td id=\"T_23963_row14_col2\" class=\"data row14 col2\" >2</td>\n",
              "      <td id=\"T_23963_row14_col3\" class=\"data row14 col3\" >2</td>\n",
              "      <td id=\"T_23963_row14_col4\" class=\"data row14 col4\" >1</td>\n",
              "      <td id=\"T_23963_row14_col5\" class=\"data row14 col5\" >MT</td>\n",
              "      <td id=\"T_23963_row14_col6\" class=\"data row14 col6\" >nan</td>\n",
              "      <td id=\"T_23963_row14_col7\" class=\"data row14 col7\" >nan</td>\n",
              "      <td id=\"T_23963_row14_col8\" class=\"data row14 col8\" >nan</td>\n",
              "      <td id=\"T_23963_row14_col9\" class=\"data row14 col9\" >nan</td>\n",
              "      <td id=\"T_23963_row14_col10\" class=\"data row14 col10\" >1</td>\n",
              "      <td id=\"T_23963_row14_col11\" class=\"data row14 col11\" >nan</td>\n",
              "      <td id=\"T_23963_row14_col12\" class=\"data row14 col12\" >nan</td>\n",
              "      <td id=\"T_23963_row14_col13\" class=\"data row14 col13\" >E</td>\n",
              "      <td id=\"T_23963_row14_col14\" class=\"data row14 col14\" >E</td>\n",
              "      <td id=\"T_23963_row14_col15\" class=\"data row14 col15\" >C</td>\n",
              "      <td id=\"T_23963_row14_col16\" class=\"data row14 col16\" >B</td>\n",
              "    </tr>\n",
              "  </tbody>\n",
              "</table>\n"
            ]
          },
          "metadata": {},
          "execution_count": 7
        }
      ]
    },
    {
      "cell_type": "code",
      "source": [
        "#transformando as variaveis numericas em nominais\n",
        "mapping_dict = {1: 'Espanhol', 0: 'Inglês'}\n",
        "df['TP_LINGUA'] = df['TP_LINGUA'].map(mapping_dict)\n",
        "df['TP_LINGUA']"
      ],
      "metadata": {
        "id": "PcxeCEbWT6Hp",
        "colab": {
          "base_uri": "https://localhost:8080/"
        },
        "outputId": "7c88dfbb-c9cf-4987-8c7e-8ad4a58bef75"
      },
      "execution_count": null,
      "outputs": [
        {
          "output_type": "execute_result",
          "data": {
            "text/plain": [
              "0            Inglês\n",
              "1            Inglês\n",
              "2          Espanhol\n",
              "3          Espanhol\n",
              "4            Inglês\n",
              "             ...   \n",
              "3476100    Espanhol\n",
              "3476101    Espanhol\n",
              "3476102      Inglês\n",
              "3476103      Inglês\n",
              "3476104    Espanhol\n",
              "Name: TP_LINGUA, Length: 3476105, dtype: object"
            ]
          },
          "metadata": {},
          "execution_count": 8
        }
      ]
    },
    {
      "cell_type": "code",
      "source": [
        "grupo = df.groupby(['TP_LINGUA']).size()\n",
        "grupo"
      ],
      "metadata": {
        "colab": {
          "base_uri": "https://localhost:8080/"
        },
        "id": "O_j_M4RSSn-l",
        "outputId": "5bc360ba-841a-4ebc-f3a3-5df3362406ff"
      },
      "execution_count": null,
      "outputs": [
        {
          "output_type": "execute_result",
          "data": {
            "text/plain": [
              "TP_LINGUA\n",
              "Espanhol    1576077\n",
              "Inglês      1900028\n",
              "dtype: int64"
            ]
          },
          "metadata": {},
          "execution_count": 9
        }
      ]
    },
    {
      "cell_type": "code",
      "source": [
        "grupo.plot.bar(color = 'pink')"
      ],
      "metadata": {
        "colab": {
          "base_uri": "https://localhost:8080/",
          "height": 531
        },
        "id": "fLA7aee6Th9H",
        "outputId": "be98baf5-a652-4ee2-bd49-26c21cbe90ab"
      },
      "execution_count": null,
      "outputs": [
        {
          "output_type": "execute_result",
          "data": {
            "text/plain": [
              "<Axes: xlabel='TP_LINGUA'>"
            ]
          },
          "metadata": {},
          "execution_count": 10
        },
        {
          "output_type": "display_data",
          "data": {
            "text/plain": [
              "<Figure size 640x480 with 1 Axes>"
            ],
            "image/png": "[encoded data removed]"
          },
          "metadata": {}
        }
      ]
    },
    {
      "cell_type": "code",
      "source": [
        "#agrupando os alunos por estado\n",
        "grupo_uf = df.groupby(['SG_UF_PROVA']).size()\n",
        "grupo_uf"
      ],
      "metadata": {
        "colab": {
          "base_uri": "https://localhost:8080/"
        },
        "id": "SA7XZ4krUqvN",
        "outputId": "60b50a47-f7ed-40ea-85cc-970e1647c992"
      },
      "execution_count": null,
      "outputs": [
        {
          "output_type": "execute_result",
          "data": {
            "text/plain": [
              "SG_UF_PROVA\n",
              "AC     22601\n",
              "AL     63945\n",
              "AM     80986\n",
              "AP     22674\n",
              "BA    265166\n",
              "CE    226377\n",
              "DF     65401\n",
              "ES     63700\n",
              "GO    141622\n",
              "MA    132916\n",
              "MG    309781\n",
              "MS     44683\n",
              "MT     59381\n",
              "PA    202621\n",
              "PB    103238\n",
              "PE    189595\n",
              "PI     84400\n",
              "PR    150396\n",
              "RJ    250890\n",
              "RN     88049\n",
              "RO     31969\n",
              "RR      8434\n",
              "RS    152295\n",
              "SC     82791\n",
              "SE     58312\n",
              "SP    544442\n",
              "TO     29440\n",
              "dtype: int64"
            ]
          },
          "metadata": {},
          "execution_count": 11
        }
      ]
    },
    {
      "cell_type": "code",
      "source": [
        "#visualizando a quantidade de alunos em cada estado\n",
        "grupo_uf.plot.bar(color = 'pink')"
      ],
      "metadata": {
        "colab": {
          "base_uri": "https://localhost:8080/",
          "height": 475
        },
        "id": "7YlTxl_4VdUW",
        "outputId": "714ebd1b-c42e-41d1-c723-edd59478b236"
      },
      "execution_count": null,
      "outputs": [
        {
          "output_type": "execute_result",
          "data": {
            "text/plain": [
              "<Axes: xlabel='SG_UF_PROVA'>"
            ]
          },
          "metadata": {},
          "execution_count": 12
        },
        {
          "output_type": "display_data",
          "data": {
            "text/plain": [
              "<Figure size 640x480 with 1 Axes>"
            ],
            "image/png": "[encoded data removed]"
          },
          "metadata": {}
        }
      ]
    },
    {
      "cell_type": "code",
      "source": [
        "grupo_sexo = df.groupby(['TP_SEXO']).size()\n",
        "grupo_sexo"
      ],
      "metadata": {
        "id": "ahclrAt6WDe6",
        "colab": {
          "base_uri": "https://localhost:8080/"
        },
        "outputId": "dc2c97ef-56eb-45a3-ecda-e90a840855f0"
      },
      "execution_count": null,
      "outputs": [
        {
          "output_type": "execute_result",
          "data": {
            "text/plain": [
              "TP_SEXO\n",
              "F    2120519\n",
              "M    1355586\n",
              "dtype: int64"
            ]
          },
          "metadata": {},
          "execution_count": 13
        }
      ]
    },
    {
      "cell_type": "code",
      "source": [
        "grupo_sexo.plot.bar(color = 'pink')"
      ],
      "metadata": {
        "colab": {
          "base_uri": "https://localhost:8080/",
          "height": 480
        },
        "id": "GtQdonAtWU56",
        "outputId": "96d72366-a8ca-4ae8-d194-74f3f8fb282a"
      },
      "execution_count": null,
      "outputs": [
        {
          "output_type": "execute_result",
          "data": {
            "text/plain": [
              "<Axes: xlabel='TP_SEXO'>"
            ]
          },
          "metadata": {},
          "execution_count": 14
        },
        {
          "output_type": "display_data",
          "data": {
            "text/plain": [
              "<Figure size 640x480 with 1 Axes>"
            ],
            "image/png": "[encoded data removed]"
          },
          "metadata": {}
        }
      ]
    },
    {
      "cell_type": "code",
      "source": [
        "df['NU_NOTA_REDACAO'].describe()"
      ],
      "metadata": {
        "colab": {
          "base_uri": "https://localhost:8080/"
        },
        "id": "VFzrnlWZWyX3",
        "outputId": "3db56675-6874-4af0-f1ce-0be18f4f5c85"
      },
      "execution_count": null,
      "outputs": [
        {
          "output_type": "execute_result",
          "data": {
            "text/plain": [
              "count    2.493442e+06\n",
              "mean     6.184797e+02\n",
              "std      2.122125e+02\n",
              "min      0.000000e+00\n",
              "25%      5.200000e+02\n",
              "50%      6.200000e+02\n",
              "75%      7.600000e+02\n",
              "max      1.000000e+03\n",
              "Name: NU_NOTA_REDACAO, dtype: float64"
            ]
          },
          "metadata": {},
          "execution_count": 15
        }
      ]
    },
    {
      "cell_type": "code",
      "source": [
        "srn.displot(df['NU_NOTA_REDACAO'])"
      ],
      "metadata": {
        "colab": {
          "base_uri": "https://localhost:8080/",
          "height": 523
        },
        "id": "IQit0Ze-X4Jy",
        "outputId": "f74d740d-659f-442e-a829-e44c77ccefa6"
      },
      "execution_count": null,
      "outputs": [
        {
          "output_type": "execute_result",
          "data": {
            "text/plain": [
              "<seaborn.axisgrid.FacetGrid at 0x78d3ba7673a0>"
            ]
          },
          "metadata": {},
          "execution_count": 16
        },
        {
          "output_type": "display_data",
          "data": {
            "text/plain": [
              "<Figure size 500x500 with 1 Axes>"
            ],
            "image/png": "[encoded data removed]"
          },
          "metadata": {}
        }
      ]
    },
    {
      "cell_type": "code",
      "source": [
        "mapping_raca = {0: 'N/D', 1: 'Branca', 2: 'Preta', 3: 'Parda', 4: 'Amarela', 5: 'Indígena', 6: 'Não sabe'}\n",
        "df['TP_COR_RACA'] = df['TP_COR_RACA'].map(mapping_raca)\n",
        "df['TP_COR_RACA']\n"
      ],
      "metadata": {
        "colab": {
          "base_uri": "https://localhost:8080/"
        },
        "id": "dSupNZvVzRJX",
        "outputId": "a3c4ce92-d236-4981-8953-ae95d19ebee6"
      },
      "execution_count": null,
      "outputs": [
        {
          "output_type": "execute_result",
          "data": {
            "text/plain": [
              "0           Preta\n",
              "1          Branca\n",
              "2           Preta\n",
              "3           Parda\n",
              "4           Parda\n",
              "            ...  \n",
              "3476100    Branca\n",
              "3476101    Branca\n",
              "3476102    Branca\n",
              "3476103     Parda\n",
              "3476104     Parda\n",
              "Name: TP_COR_RACA, Length: 3476105, dtype: object"
            ]
          },
          "metadata": {},
          "execution_count": 17
        }
      ]
    },
    {
      "cell_type": "code",
      "source": [
        "grupo_raca= df.groupby(['TP_COR_RACA']).size()\n",
        "grupo_raca"
      ],
      "metadata": {
        "colab": {
          "base_uri": "https://localhost:8080/"
        },
        "id": "ONHCWJSclXWv",
        "outputId": "368861ea-2ee6-4af2-dfa6-49d70d4988ce"
      },
      "execution_count": null,
      "outputs": [
        {
          "output_type": "execute_result",
          "data": {
            "text/plain": [
              "TP_COR_RACA\n",
              "Amarela       66051\n",
              "Branca      1428081\n",
              "Indígena      19840\n",
              "N/D           64867\n",
              "Parda       1488844\n",
              "Preta        408422\n",
              "dtype: int64"
            ]
          },
          "metadata": {},
          "execution_count": 18
        }
      ]
    },
    {
      "cell_type": "code",
      "source": [
        "grupo_raca.plot.bar(color = 'pink')"
      ],
      "metadata": {
        "colab": {
          "base_uri": "https://localhost:8080/",
          "height": 528
        },
        "id": "-Bn6HCUnloO6",
        "outputId": "4e7a3fed-1c6b-464a-8305-1b8815681e0e"
      },
      "execution_count": null,
      "outputs": [
        {
          "output_type": "execute_result",
          "data": {
            "text/plain": [
              "<Axes: xlabel='TP_COR_RACA'>"
            ]
          },
          "metadata": {},
          "execution_count": 19
        },
        {
          "output_type": "display_data",
          "data": {
            "text/plain": [
              "<Figure size 640x480 with 1 Axes>"
            ],
            "image/png": "[encoded data removed]"
          },
          "metadata": {}
        }
      ]
    },
    {
      "cell_type": "code",
      "source": [
        "print(df.dtypes['TP_FAIXA_ETARIA'])"
      ],
      "metadata": {
        "colab": {
          "base_uri": "https://localhost:8080/"
        },
        "id": "FrptDHrtSgVe",
        "outputId": "87feca6f-8c42-4eba-d5b9-7683355df4cb"
      },
      "execution_count": null,
      "outputs": [
        {
          "output_type": "stream",
          "name": "stdout",
          "text": [
            "int64\n"
          ]
        }
      ]
    },
    {
      "cell_type": "code",
      "source": [
        "#Tranformando o tipo da coluna de object para int64\n",
        "df['TP_FAIXA_ETARIA'] = df['TP_FAIXA_ETARIA'].astype(int)"
      ],
      "metadata": {
        "id": "ELSz8JosTUZG"
      },
      "execution_count": null,
      "outputs": []
    },
    {
      "cell_type": "code",
      "source": [
        "print(df.dtypes['TP_FAIXA_ETARIA'])"
      ],
      "metadata": {
        "colab": {
          "base_uri": "https://localhost:8080/"
        },
        "id": "wsbPCbIDTZa-",
        "outputId": "204f1688-4eae-4ef9-bd77-7bb4aaa6e012"
      },
      "execution_count": null,
      "outputs": [
        {
          "output_type": "stream",
          "name": "stdout",
          "text": [
            "int64\n"
          ]
        }
      ]
    },
    {
      "cell_type": "code",
      "source": [
        "mapping_escola = {1: 'Não respondeu', 2: 'Pública', 3: 'Privada'}\n",
        "df['tipo_escola'] = df['TP_FAIXA_ETARIA'].map(mapping_escola)\n",
        "df['tipo_escola']"
      ],
      "metadata": {
        "colab": {
          "base_uri": "https://localhost:8080/"
        },
        "id": "mxvldrQqVXns",
        "outputId": "cdeded75-1ee6-4c5e-995d-acbd53babc5e"
      },
      "execution_count": null,
      "outputs": [
        {
          "output_type": "execute_result",
          "data": {
            "text/plain": [
              "0              NaN\n",
              "1              NaN\n",
              "2              NaN\n",
              "3              NaN\n",
              "4              NaN\n",
              "            ...   \n",
              "3476100    Privada\n",
              "3476101        NaN\n",
              "3476102    Pública\n",
              "3476103    Privada\n",
              "3476104    Pública\n",
              "Name: tipo_escola, Length: 3476105, dtype: object"
            ]
          },
          "metadata": {},
          "execution_count": 23
        }
      ]
    },
    {
      "cell_type": "code",
      "source": [
        "grupo_escolar = df.groupby(['tipo_escola']).size()\n",
        "grupo_escolar"
      ],
      "metadata": {
        "colab": {
          "base_uri": "https://localhost:8080/"
        },
        "id": "5eDNU_dURkjK",
        "outputId": "39917a18-b766-4a2e-cf8a-a14795d2c093"
      },
      "execution_count": null,
      "outputs": [
        {
          "output_type": "execute_result",
          "data": {
            "text/plain": [
              "tipo_escola\n",
              "Não respondeu    303605\n",
              "Privada          805862\n",
              "Pública          711278\n",
              "dtype: int64"
            ]
          },
          "metadata": {},
          "execution_count": 24
        }
      ]
    },
    {
      "cell_type": "code",
      "source": [
        "grupo_escolar.plot.bar(color = 'pink')"
      ],
      "metadata": {
        "colab": {
          "base_uri": "https://localhost:8080/",
          "height": 558
        },
        "id": "FUJ6GsUtUmNB",
        "outputId": "a8eaaa17-eb89-4145-cbc1-0451b990834a"
      },
      "execution_count": null,
      "outputs": [
        {
          "output_type": "execute_result",
          "data": {
            "text/plain": [
              "<Axes: xlabel='tipo_escola'>"
            ]
          },
          "metadata": {},
          "execution_count": 25
        },
        {
          "output_type": "display_data",
          "data": {
            "text/plain": [
              "<Figure size 640x480 with 1 Axes>"
            ],
            "image/png": "[encoded data removed]"
          },
          "metadata": {}
        }
      ]
    },
    {
      "cell_type": "code",
      "source": [
        "def age_mapping(age_group):\n",
        "  if age_group == 1:\n",
        "    return '<17'\n",
        "  elif age_group == 2:\n",
        "    return '17'\n",
        "  elif age_group == 3:\n",
        "    return '18'\n",
        "  elif age_group == 4:\n",
        "    return '19'\n",
        "  elif age_group == 5:\n",
        "    return '20'\n",
        "  elif age_group == 6:\n",
        "    return '21'\n",
        "  elif age_group == 7:\n",
        "    return '22'\n",
        "  elif age_group == 8:\n",
        "    return '23'\n",
        "  elif age_group == 9:\n",
        "    return '24'\n",
        "  elif age_group == 10:\n",
        "    return '25'\n",
        "  elif age_group == 11:\n",
        "    return '26<'\n",
        "  elif age_group == 12:\n",
        "    return '30<'\n",
        "  elif age_group == 13:\n",
        "    return '35<'\n",
        "  elif age_group == 14:\n",
        "    return '40<'\n",
        "  elif age_group == 15:\n",
        "    return '45<'\n",
        "  elif age_group == 16:\n",
        "    return '50<'\n",
        "  elif age_group == 17:\n",
        "    return '55<'\n",
        "  elif age_group == 18:\n",
        "    return '60<'\n",
        "  else:\n",
        "    return '0'"
      ],
      "metadata": {
        "id": "U37_mv8eZIar"
      },
      "execution_count": null,
      "outputs": []
    },
    {
      "cell_type": "code",
      "source": [
        "df['idade_categoria'] = df['TP_FAIXA_ETARIA'].apply(age_mapping)"
      ],
      "metadata": {
        "id": "HEqe5pD6ZL5m"
      },
      "execution_count": null,
      "outputs": []
    },
    {
      "cell_type": "code",
      "source": [
        "idade_counts = df['idade_categoria'].value_counts()\n",
        "\n",
        "# Criar o gráfico de barras\n",
        "plt.bar(idade_counts.index, idade_counts.values)\n",
        "\n",
        "# Adicionar rótulos e título\n",
        "plt.xlabel('Idade')\n",
        "plt.ylabel('Número de Alunos')\n",
        "plt.title('Distribuição das Idades dos Alunos')\n",
        "# If age_mapping is a DataFrame or Series, use its index\n",
        "if hasattr(age_mapping, 'index'):\n",
        "   plt.xticks(age_mapping.index, age_mapping['age_group'], rotation=45)\n",
        "\n",
        "\n",
        "# Mostrar o gráfico\n",
        "plt.show()"
      ],
      "metadata": {
        "colab": {
          "base_uri": "https://localhost:8080/",
          "height": 472
        },
        "id": "Dypu7PxEZRlO",
        "outputId": "843a33bb-db84-4560-a3ca-aa57bf40ae63"
      },
      "execution_count": null,
      "outputs": [
        {
          "output_type": "display_data",
          "data": {
            "text/plain": [
              "<Figure size 640x480 with 1 Axes>"
            ],
            "image/png": "[encoded data removed]"
          },
          "metadata": {}
        }
      ]
    }
  ]
}